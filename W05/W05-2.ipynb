{
 "cells": [
  {
   "cell_type": "markdown",
   "metadata": {},
   "source": [
    "## W05-2 : WEB API\n",
    "----\n",
    "- Flask: \n",
    "- Django"
   ]
  },
  {
   "cell_type": "markdown",
   "metadata": {},
   "source": [
    "### Flask實作 API\n",
    "\n",
    "- 進到 W05-2資料夾\n",
    "- 執行 python app.py\n",
    "- 打開 http://127.0.0.1:5000/\n",
    "- 最新一筆資料 http://127.0.0.1:5000/\n",
    "- 最新一筆資料 http://127.0.0.1:5000/?SiteName=大寮\n",
    "- 歷史資料 http://127.0.0.1:5000/api/data/history?SiteName=大寮\n"
   ]
  },
  {
   "cell_type": "markdown",
   "metadata": {},
   "source": [
    "### TODO:\n",
    "\n",
    "- 將範例中的資料庫來源改為MySQL\n"
   ]
  },
  {
   "cell_type": "markdown",
   "metadata": {},
   "source": [
    "### TODO:\n",
    "\n",
    "- 試著而用繪圖function回傳繪製的折線圖\n"
   ]
  },
  {
   "cell_type": "code",
   "execution_count": null,
   "metadata": {},
   "outputs": [],
   "source": []
  }
 ],
 "metadata": {
  "kernelspec": {
   "display_name": "Python 3",
   "language": "python",
   "name": "python3"
  },
  "language_info": {
   "codemirror_mode": {
    "name": "ipython",
    "version": 3
   },
   "file_extension": ".py",
   "mimetype": "text/x-python",
   "name": "python",
   "nbconvert_exporter": "python",
   "pygments_lexer": "ipython3",
   "version": "3.7.0"
  }
 },
 "nbformat": 4,
 "nbformat_minor": 2
}
